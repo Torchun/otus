{
 "cells": [
  {
   "cell_type": "code",
   "execution_count": 1,
   "metadata": {},
   "outputs": [],
   "source": [
    "import os\n",
    "import subprocess\n",
    "import torch\n",
    "import torch.nn as nn\n",
    "import torch.nn.functional as F\n",
    "import torch.optim as optim\n",
    "from torchvision import datasets, transforms\n",
    "import matplotlib.pyplot as plt\n",
    "\n",
    "from utils import mnist"
   ]
  },
  {
   "cell_type": "code",
   "execution_count": 2,
   "metadata": {},
   "outputs": [
    {
     "name": "stdout",
     "output_type": "stream",
     "text": [
      "Tue May 26 11:50:51 2020       \n",
      "+-----------------------------------------------------------------------------+\n",
      "| NVIDIA-SMI 440.64       Driver Version: 440.64       CUDA Version: 10.2     |\n",
      "|-------------------------------+----------------------+----------------------+\n",
      "| GPU  Name        Persistence-M| Bus-Id        Disp.A | Volatile Uncorr. ECC |\n",
      "| Fan  Temp  Perf  Pwr:Usage/Cap|         Memory-Usage | GPU-Util  Compute M. |\n",
      "|===============================+======================+======================|\n",
      "|   0  GeForce RTX 206...  Off  | 00000000:01:00.0  On |                  N/A |\n",
      "|  0%   50C    P8    16W / 184W |   2924MiB /  7981MiB |      6%      Default |\n",
      "+-------------------------------+----------------------+----------------------+\n",
      "                                                                               \n",
      "+-----------------------------------------------------------------------------+\n",
      "| Processes:                                                       GPU Memory |\n",
      "|  GPU       PID   Type   Process name                             Usage      |\n",
      "|=============================================================================|\n",
      "+-----------------------------------------------------------------------------+\n",
      "\n",
      "GPUs in  system:        1\n",
      "GPU compute capability: (7, 5)\n",
      "GPU name:               GeForce RTX 2060 SUPER\n"
     ]
    },
    {
     "data": {
      "text/plain": [
       "device(type='cuda', index=0)"
      ]
     },
     "execution_count": 2,
     "metadata": {},
     "output_type": "execute_result"
    }
   ],
   "source": [
    "# Если доступна видеокрта - будем считаться на ней\n",
    "# Если нет - на ЦПУ\n",
    "# Обязательно используем .to(device) на torch.tensor()\n",
    "\n",
    "if torch.cuda.is_available():\n",
    "    device = torch.device('cuda:0')\n",
    "    print(subprocess.getoutput(\"nvidia-smi\"))\n",
    "    print()\n",
    "    print(f\"GPUs in  system:        {torch.cuda.device_count()}\")\n",
    "    print(f\"GPU compute capability: {torch.cuda.get_device_capability(device)}\")\n",
    "    print(f\"GPU name:               {torch.cuda.get_device_name()}\")\n",
    "else:\n",
    "    device = torch.device('cpu')\n",
    "device"
   ]
  },
  {
   "cell_type": "code",
   "execution_count": 3,
   "metadata": {},
   "outputs": [],
   "source": [
    "# Описываем класс, создающий сеть\n",
    "class Net(nn.Module):\n",
    "    # по умолчанию log_softmax = False\n",
    "    def __init__(self, log_softmax=False):\n",
    "        super(Net, self).__init__()\n",
    "        inputs=28*28\n",
    "        l1_hidden_neurons=128\n",
    "        outputs=10\n",
    "        self.fc1 = nn.Linear(inputs, l1_hidden_neurons)\n",
    "        self.act1 = torch.nn.Sigmoid() # именно эта строка не используется в forward, дописал для понимания последовательности действий\n",
    "        self.fc2 = nn.Linear(l1_hidden_neurons, outputs)\n",
    "        self.log_softmax = log_softmax\n",
    "        self.optim = optim.SGD(self.parameters(), lr=1.0)\n",
    "        \n",
    "    def forward(self, x):\n",
    "        # на вход поступает набор картинок, размерность тензора (N, 28, 28)\n",
    "        # нужно \"выпрямить\" в размерность (N, 28*28)\n",
    "        x = x.view(-1, 28*28)\n",
    "        \n",
    "        # тут два шага в одном - суммируем данные первым слоем и сразу же пропускаем через активацию\n",
    "        x = torch.sigmoid(self.fc1(x))\n",
    "        \n",
    "        # суммируем выходы последнего слоя\n",
    "        x = self.fc2(x)\n",
    "        \n",
    "        # и в зависимости от запрошенного, используем разные softmax'ы\n",
    "        if self.log_softmax:\n",
    "            # если указали log_softmax=True\n",
    "            x = F.log_softmax(x, dim=1) # log_softmax\n",
    "        else:\n",
    "            # по умолчанию\n",
    "            x = torch.log(F.softmax(x, dim=1)) # log от softmax\n",
    "        return x\n",
    "    \n",
    "    def loss(self, output, target, **kwargs):\n",
    "        self._loss = F.nll_loss(output, target, **kwargs)\n",
    "        return self._loss"
   ]
  },
  {
   "cell_type": "code",
   "execution_count": 4,
   "metadata": {},
   "outputs": [],
   "source": [
    "def train(models, epoch, model_train_loss):\n",
    "    # читаем батчами по 50 экземпляров каждый (настройки dataset_loader)\n",
    "    for batch_idx, (data, target) in enumerate(train_loader):\n",
    "        # данные перемещаем на нужное устройство (CPU/GPU)\n",
    "        data = data.to(device)\n",
    "        target = target.to(device)\n",
    "        \n",
    "        # на одном и том же батче обучаем каждую модель\n",
    "        # это экономит время на передачу данных в\\из памяти\n",
    "        for model in models:\n",
    "            # обнулили накопленные градиенты\n",
    "            model.optim.zero_grad()\n",
    "            # посчитали ответы сети с текущими весами\n",
    "            output = model.forward(data)\n",
    "            # посчитали ошибку\n",
    "            loss = model.loss(output, target)\n",
    "            # посчитали градиент\n",
    "            loss.backward()\n",
    "            # и проапдейтили веса новыми значениями \n",
    "            model.optim.step()\n",
    "\n",
    "        # раз в (batch_size * 200) == 10000 выведем статистику  \n",
    "        if batch_idx % 200 == 0:\n",
    "            epoch_stats = f\"Train Epoch: {epoch} [{batch_idx * len(data)}/{len(train_loader.dataset)} ({round(100. * batch_idx / len(train_loader), 2)}%)]\\t\\t\"\n",
    "            loss_stats = f\"Losses: \"\n",
    "            for idx, model in enumerate(models):\n",
    "                model_train_loss[idx] += [model._loss.item()]\n",
    "                loss_stats += f\" {idx}: {round(model._loss.item(),4)}\\t\"\n",
    "            #print(epoch_stats + loss_stats)\n",
    "            \n",
    "    # перед завершением функции покажем посленюю статистику, т.к. она не попала  в цикл        \n",
    "    batch_idx += 1 # потому что индекс с нуля\n",
    "    epoch_stats = f\"Train Epoch: {epoch} [{batch_idx * len(data)}/{len(train_loader.dataset)} ({round(100. * batch_idx / len(train_loader), 2)}%)]\\t\\t\"\n",
    "    loss_stats = f\"Losses: \"\n",
    "    for idx, model in enumerate(models):\n",
    "        model_train_loss[idx] += [model._loss.item()]\n",
    "        loss_stats += f\" {idx}: {round(model._loss.item(),4)}\\t\"\n",
    "    #print(epoch_stats + loss_stats)"
   ]
  },
  {
   "cell_type": "code",
   "execution_count": 5,
   "metadata": {},
   "outputs": [],
   "source": [
    "def test(models, model_test_loss, model_test_accuracy):\n",
    "    # будем считать статистики по каждой модели отдельно\n",
    "    test_loss = [0]*len(models) # сюда накапливать величину лосса\n",
    "    correct = [0]*len(models) # а сюда плюсовать правильные ответы\n",
    "    with torch.no_grad():\n",
    "        for data, target in test_loader:\n",
    "            # тестовые данные закидываем на CPU\\GPU:\n",
    "            data = data.to(device)\n",
    "            target = target.to(device)\n",
    "            \n",
    "            # смотрим какие ответы нам дает каждая модель на тестовой выборке:\n",
    "            output = []\n",
    "            for model in models:\n",
    "                output += [model.forward(data)]\n",
    "\n",
    "            # теперь подсчтаем статистики для каждой модели\n",
    "            for i, model in enumerate(models):\n",
    "                # запишем сумму ошибок каждой модели\n",
    "                test_loss[i] += model.loss(output[i], target, reduction='sum').item()\n",
    "                # запишем индекс самого вероятного класса каждой модели\n",
    "                pred = output[i].data.max(1, keepdim=True)[1] # get the index of the max log-probability\n",
    "                # плюсик в правильные ответы модели если ответ совпал с правильным\n",
    "                correct[i] += pred.eq(target.data.view_as(pred)).cpu().sum()\n",
    "    # посчитали сумму лосса и количество правильных ответов каждой модели\n",
    "    for i in range(len(models)):\n",
    "        # теперь усредним лосс каждой модели\n",
    "        test_loss[i] /= len(test_loader.dataset)\n",
    "    # сумму правильных ответов каждой модели делим на воличество примеров, получаем процент правильных ответов каждой модели в массив\n",
    "    correct_pct = [100. * c / len(test_loader.dataset) for c in correct]\n",
    "    # и вывод результата подсчета\n",
    "    # 0: Loss: 0.1010\tAccuracy: 9679/10000 (97%)\n",
    "    lines =\"\"\n",
    "    for i, model in enumerate(models):\n",
    "        model_test_loss[i] += [test_loss[i]]\n",
    "        model_test_accuracy[i] += [correct[i].item()/len(test_loader.dataset)]\n",
    "        lines += f\"Model #{i}\\t Loss: {round(test_loss[i],4)}\\t \"\n",
    "        lines += f\"Accuracy:{correct[i]}/{len(test_loader.dataset)} \"\n",
    "        lines += f\"({round(correct_pct[i].item(),2)}%)\\n\"\n",
    "    report = 'Test set:\\n' + lines\n",
    "    \n",
    "    #print(report)"
   ]
  },
  {
   "cell_type": "code",
   "execution_count": 6,
   "metadata": {},
   "outputs": [],
   "source": [
    "# Загрузим датасет MNIST, процедура загрузки описана в допфайле utils.py\n",
    "train_loader, test_loader = mnist()\n"
   ]
  },
  {
   "cell_type": "code",
   "execution_count": 7,
   "metadata": {},
   "outputs": [
    {
     "name": "stdout",
     "output_type": "stream",
     "text": [
      "CPU times: user 32.4 s, sys: 833 ms, total: 33.3 s\n",
      "Wall time: 33.2 s\n"
     ]
    }
   ],
   "source": [
    "%%time\n",
    "# создадим две модели, первая с log(softmax), вторая с log_softmax\n",
    "models = [Net().to(device), Net(True).to(device)]\n",
    "\n",
    "epoch_count = 2\n",
    "\n",
    "# будем накапливать статистику для построения графиков\n",
    "model_train_loss = []\n",
    "model_test_loss = []\n",
    "model_test_accuracy = []\n",
    "# зададим массив так, чтобы первым элементом накапливался массив по первой модели, вторым по второй и т.д.\n",
    "for i, model in enumerate(models):\n",
    "    model_train_loss += [[]]\n",
    "    model_test_loss += [[]]\n",
    "    model_test_accuracy += [[]]\n",
    "\n",
    "# стартуем обучение сетей\n",
    "for epoch in range(1, epoch_count+1):\n",
    "    train(models, epoch, model_train_loss)\n",
    "    test(models, model_test_loss, model_test_accuracy)\n",
    "    \n",
    "# убрали модель с карты\n",
    "torch.cuda.empty_cache()"
   ]
  },
  {
   "cell_type": "code",
   "execution_count": 8,
   "metadata": {},
   "outputs": [
    {
     "data": {
      "image/png": "[encoded data removed]",
      "text/plain": [
       "<Figure size 720x360 with 1 Axes>"
      ]
     },
     "metadata": {
      "needs_background": "light"
     },
     "output_type": "display_data"
    },
    {
     "data": {
      "image/png": "[encoded data removed]",
      "text/plain": [
       "<Figure size 720x360 with 1 Axes>"
      ]
     },
     "metadata": {
      "needs_background": "light"
     },
     "output_type": "display_data"
    }
   ],
   "source": [
    "for i, model in enumerate(models):\n",
    "    model_train_loss[i].pop(0)\n",
    "    normalized_test_loss = []\n",
    "    normalized_test_accuracy = []\n",
    "    for j in model_test_accuracy[i]:\n",
    "        normalized_test_accuracy.extend([j]*7)\n",
    "    for j in model_test_loss[i]:\n",
    "        normalized_test_loss.extend([j]*7)\n",
    "    normalized_test_accuracy.pop(0)\n",
    "    normalized_test_loss.pop(0)\n",
    "\n",
    "    plt.figure(figsize=(10,5))\n",
    "    plt.title(f\"Model #{i} loss\")\n",
    "    plt.plot(model_train_loss[i], linestyle=\"-\", color=[0.1, .1, .1, .5], label=\"train\")\n",
    "    plt.plot(normalized_test_loss, linestyle=\"-\", color=[1, .1, .1, 1.0], label=\"test\")\n",
    "    plt.plot(normalized_test_accuracy, linestyle=\"-\", color=[0.1, 1., .1, 0.5], label=\"accuracy\")\n",
    "    plt.legend(loc=\"upper right\")\n",
    "    plt.show()"
   ]
  },
  {
   "cell_type": "markdown",
   "metadata": {},
   "source": [
    "# Теперь переобучим сеть\n",
    "### Будем менять количество слоев, нейронов, learning rate и количество эпох.\n",
    "### Дополнительно перепутаем train и test датасеты местами, чтобы переобучиться на маленьком и проверяться на большом"
   ]
  },
  {
   "cell_type": "code",
   "execution_count": 64,
   "metadata": {},
   "outputs": [],
   "source": [
    "# Описываем класс, создающий сеть\n",
    "class Net(nn.Module):\n",
    "    # по умолчанию log_softmax = False\n",
    "    def __init__(self, log_softmax=False):\n",
    "        super(Net, self).__init__()\n",
    "        inputs=28*28\n",
    "        l1_hidden_neurons=50\n",
    "        outputs=10\n",
    "        self.fc1 = nn.Linear(inputs, l1_hidden_neurons)\n",
    "        self.fc2 = nn.Linear(l1_hidden_neurons, 50)\n",
    "        self.fc3 = nn.Linear(50, 50)\n",
    "        self.fc4 = nn.Linear(50, 50)\n",
    "        self.fc_out = nn.Linear(50, outputs)\n",
    "        self.log_softmax = log_softmax\n",
    "        self.optim = optim.SGD(self.parameters(), lr=0.001)\n",
    "        \n",
    "    def forward(self, x):\n",
    "        # на вход поступает набор картинок, размерность тензора (N, 28, 28)\n",
    "        # нужно \"выпрямить\" в размерность (N, 28*28)\n",
    "        x = x.view(-1, 28*28)\n",
    "        \n",
    "        # тут два шага в одном - суммируем данные первым слоем и сразу же пропускаем через активацию\n",
    "        x = torch.relu(self.fc1(x))\n",
    "        x = torch.relu(self.fc2(x))\n",
    "        x = torch.relu(self.fc3(x))\n",
    "        x = torch.relu(self.fc4(x))\n",
    "\n",
    "        # суммируем выходы последнего слоя\n",
    "        x = self.fc_out(x)\n",
    "        \n",
    "        # и в зависимости от запрошенного, используем разные softmax'ы\n",
    "        if self.log_softmax:\n",
    "            # если указали log_softmax=True\n",
    "            x = F.log_softmax(x, dim=1) # log_softmax\n",
    "        else:\n",
    "            # по умолчанию\n",
    "            # x = torch.log(F.softmax(x, dim=1)) # log от softmax\n",
    "            x = torch.tanh(x)\n",
    "        return x\n",
    "    \n",
    "    def loss(self, output, target, **kwargs):\n",
    "        self._loss = F.nll_loss(output, target, **kwargs)\n",
    "        return self._loss"
   ]
  },
  {
   "cell_type": "code",
   "execution_count": 65,
   "metadata": {},
   "outputs": [],
   "source": [
    "# Загрузим датасет MNIST, поменяв местами train и test - будем учиться на 10к картинок а проверяться на 60к\n",
    "# Спеуиально для переобучения берем малое количество экземпляров в обучающей выборке\n",
    "# test_loader, train_loader = mnist()\n",
    "\n",
    "mnist_transform = transforms.Compose([\n",
    "                transforms.ToTensor(),\n",
    "                transforms.Normalize((0.1307,), (0.3081,)),\n",
    "          ])\n",
    "\n",
    "tr_split_len = 1000\n",
    "te_split_len = 2000\n",
    "\n",
    "tr = datasets.MNIST('./MNIST_data', train=True, download=True, transform=mnist_transform)\n",
    "te = datasets.MNIST('./MNIST_data', train=False, transform=mnist_transform)\n",
    "\n",
    "part_tr = torch.utils.data.random_split(tr, [tr_split_len, len(tr)-tr_split_len])[0]\n",
    "part_te = torch.utils.data.random_split(te, [te_split_len, len(te)-te_split_len])[0]\n",
    "\n",
    "# сделаем выборку несбалансированной по классам, а тестироваться будем на нормальной\n",
    "train_loader = torch.utils.data.DataLoader(part_tr, batch_size=50, shuffle=True)\n",
    "test_loader = torch.utils.data.DataLoader(part_te, batch_size=50, shuffle=True)"
   ]
  },
  {
   "cell_type": "code",
   "execution_count": 68,
   "metadata": {},
   "outputs": [
    {
     "name": "stdout",
     "output_type": "stream",
     "text": [
      "CPU times: user 30min 51s, sys: 4.39 s, total: 30min 55s\n",
      "Wall time: 30min 56s\n"
     ]
    }
   ],
   "source": [
    "%%time\n",
    "# Достаточно одной модели с log_softmax\n",
    "# models = [Net(True).to(device)]\n",
    "# Но мы модель портим, и отключаем softmax\n",
    "models = [Net(True).to(device)]\n",
    "\n",
    "epoch_count = 3000\n",
    "\n",
    "# будем накапливать статистику для построения графиков\n",
    "model_train_loss = []\n",
    "model_test_loss = []\n",
    "model_test_accuracy = []\n",
    "# зададим массив так, чтобы первым элементом накапливался массив по первой модели, вторым по второй и т.д.\n",
    "for i, model in enumerate(models):\n",
    "    model_train_loss += [[]]\n",
    "    model_test_loss += [[]]\n",
    "    model_test_accuracy += [[]]\n",
    "\n",
    "# стартуем обучение сетей\n",
    "for epoch in range(1, epoch_count+1):\n",
    "    train(models, epoch, model_train_loss)\n",
    "    test(models, model_test_loss, model_test_accuracy)\n",
    "\n",
    "# убрали модель с карты\n",
    "torch.cuda.empty_cache()"
   ]
  },
  {
   "cell_type": "code",
   "execution_count": 69,
   "metadata": {},
   "outputs": [
    {
     "data": {
      "image/png": "[encoded data removed]",
      "text/plain": [
       "<Figure size 1080x576 with 1 Axes>"
      ]
     },
     "metadata": {
      "needs_background": "light"
     },
     "output_type": "display_data"
    }
   ],
   "source": [
    "for i, model in enumerate(models):\n",
    "    model_train_loss[i].pop(0)\n",
    "    normalized_test_loss = []\n",
    "    normalized_test_accuracy = []\n",
    "    for j in model_test_accuracy[i]:\n",
    "        normalized_test_accuracy.extend([j]*2)\n",
    "    for j in model_test_loss[i]:\n",
    "        normalized_test_loss.extend([j]*2)\n",
    "    normalized_test_accuracy.pop(0)\n",
    "    normalized_test_loss.pop(0)\n",
    "    max_accuracy=[[0, epoch_count*2],[max(normalized_test_accuracy),max(normalized_test_accuracy)]]\n",
    "    max_accuracy\n",
    "    \n",
    "    plt.figure(figsize=(15,8))\n",
    "    plt.title(f\"Model #{i} loss\")\n",
    "    plt.plot(model_train_loss[i], linestyle=\"-\", color=[0.1, .1, .1, .5], label=\"train\")\n",
    "    plt.plot(normalized_test_loss, linestyle=\"-\", color=[1, .1, .1, 1.0], label=\"test\")\n",
    "    plt.plot(normalized_test_accuracy, linestyle=\"-\", color=[0.1, 1., .1, 0.7], label=\"accuracy\")\n",
    "    plt.plot(max_accuracy[0], max_accuracy[1], linestyle=\"--\", color=[0.1, 0.5, .1, 0.5], label=\"max acc\")\n",
    "    plt.legend(loc=\"upper right\")\n",
    "    plt.show()"
   ]
  },
  {
   "cell_type": "code",
   "execution_count": null,
   "metadata": {},
   "outputs": [],
   "source": []
  },
  {
   "cell_type": "code",
   "execution_count": null,
   "metadata": {},
   "outputs": [],
   "source": []
  }
 ],
 "metadata": {
  "kernelspec": {
   "display_name": "Python 3",
   "language": "python",
   "name": "python3"
  },
  "language_info": {
   "codemirror_mode": {
    "name": "ipython",
    "version": 3
   },
   "file_extension": ".py",
   "mimetype": "text/x-python",
   "name": "python",
   "nbconvert_exporter": "python",
   "pygments_lexer": "ipython3",
   "version": "3.6.10"
  }
 },
 "nbformat": 4,
 "nbformat_minor": 4
}
